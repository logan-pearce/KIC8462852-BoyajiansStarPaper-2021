{
 "cells": [
  {
   "cell_type": "markdown",
   "metadata": {},
   "source": [
    "## Statistical arguement against chance alignment\n",
    "Similar to Sec 4.5 in Correia et al. 2006 (https://www.aanda.org/articles/aa/pdf/2006/45/aa5545-06.pdf)\n",
    "\n",
    "I use Gaia EDR3 for this because KIC 8462852 B does not have proper motion in Gaia DR2"
   ]
  },
  {
   "cell_type": "code",
   "execution_count": 1,
   "metadata": {},
   "outputs": [
    {
     "name": "stdout",
     "output_type": "stream",
     "text": [
      "Created TAP+ (v1.2.1) - Connection:\n",
      "\tHost: gea.esac.esa.int\n",
      "\tUse HTTPS: True\n",
      "\tPort: 443\n",
      "\tSSL Port: 443\n",
      "Created TAP+ (v1.2.1) - Connection:\n",
      "\tHost: geadata.esac.esa.int\n",
      "\tUse HTTPS: True\n",
      "\tPort: 443\n",
      "\tSSL Port: 443\n"
     ]
    }
   ],
   "source": [
    "from astroquery.gaia import Gaia\n",
    "import numpy as np\n",
    "import astropy.units as u\n",
    "\n",
    "# Boyajian's star's source id:\n",
    "A_source_id = 2081900940499099136\n",
    "B_source_id = 2081900944807842560\n",
    "\n",
    "# Get Boyajian's star Gaia data:\n",
    "job = Gaia.launch_job(\"SELECT * FROM gaiaedr3.gaia_source WHERE source_id = \"+str(A_source_id))\n",
    "a = job.get_results()"
   ]
  },
  {
   "cell_type": "code",
   "execution_count": 21,
   "metadata": {},
   "outputs": [
    {
     "data": {
      "text/plain": [
       "(<Quantity 2.40054867e-08>, 140, <Quantity 3.82059191e-09 1 / arcsec2>)"
      ]
     },
     "execution_count": 21,
     "metadata": {},
     "output_type": "execute_result"
    }
   ],
   "source": [
    "# Define a function to query Gaia for objects within radius and compute probability\n",
    "# of observing a chance alignment\n",
    "def get_prob(radius, catalog = 'gaiaedr3.gaia_source'):\n",
    "    ''' For a given search radius, return the probability of a chance alignment of an object with similar\n",
    "    parallax and proper motion to KIC 8462852 A within 2\".  A very low probability means it is highly unlikely\n",
    "    for KIC 8462852 B to be a chance alignment given the neighborhood it's in.\n",
    "    \n",
    "    Args:\n",
    "        radius (flt): search radius.  Must be an astropy unit angle, such as u.deg or u.arcsec.\n",
    "        catalog (str): set the catalog to query.  Default = Gaia EDR3.\n",
    "        \n",
    "    Returns:\n",
    "        flt: probability of chance alignment of similar object\n",
    "        int: number of similiar objects within search radius\n",
    "        flt: surface density of similar objects; astropy unit object\n",
    "    '''\n",
    "    # make sure radius is in degrees:\n",
    "    radius = radius.to(u.deg)\n",
    "    # Define the query string:\n",
    "    # KIC 8462852 ra/dec: (301.564, 44.4568)\n",
    "    # KIC parallax = 2.25 mas -> parallax +/- 0.025 = 2.24,2.19\n",
    "    search_string = \"SELECT DISTANCE( \\\n",
    "          POINT('ICRS', ra, dec), \\\n",
    "          POINT('ICRS', 301.564, 44.4568)) AS dist, * \\\n",
    "        FROM \"+catalog+\" \\\n",
    "        WHERE 1=CONTAINS( POINT('ICRS',301.564, 44.4568), CIRCLE('ICRS',ra, dec, \"+str(radius.value)+\")) \\\n",
    "        AND sqrt(power(pmra - \"+str(a['pmra'][0])+\", 2) + power(pmdec - \"+str(a['pmdec'][0])+\", 2)) < 0.6 \\\n",
    "        AND parallax < 2.24  AND parallax > 2.19\"\n",
    "    # Perform query:\n",
    "    job = Gaia.launch_job(search_string)\n",
    "    g = job.get_results()\n",
    "    N_obj = len(g)\n",
    "    Sigma = N_obj/(np.pi*(radius.to(u.arcsec))**2)\n",
    "    P = 1 - np.exp(-np.pi*Sigma*(2*u.arcsec**2))\n",
    "    return P, N_obj, Sigma\n",
    "\n",
    "# Query within 30 degrees:\n",
    "P, N, Sigma = get_prob(30*u.deg)\n",
    "P, N, Sigma"
   ]
  },
  {
   "cell_type": "markdown",
   "metadata": {},
   "source": [
    "## Statistical arguement using binary statistics\n",
    "\n",
    "#### Deacon et al. 2016 \n",
    "\n",
    "But modified.  Deacon was working with color and magnitudes as mass estimates, and statistics for the entire binary population to decide if objects were binaries or not.  In this case I don't need to care about the entire binary population because I only care about one specific binary.  So I only need to worry about occurence rates of binaries for the bin of parameter space that my potential binary falls into.  The parameters here are: pm in ra & dec, Gaia Gmag, parallax, and area on the sky.  The probability is then a likelihood ratio of the likelihood of finding a binary at that bin of parameter space ($\\phi_c$) over the likelihood of finding a binary or field star ($\\phi_f$) in that bin.  The probability then is A2 in Deacon: $$P = \\frac{\\phi_c}{\\phi_c + \\phi_f}$$ and P$\\approx$1 means it is much much more likely to be a companion than a field star.\n",
    "\n",
    "### phi_f:\n",
    "\n",
    "Query Gaia EDR3 to find the number of objects within an area of sky that match the companion in each bin of parameter space.\n",
    "\n",
    "The units of $\\phi_f$ will then be $objects \\,(mas\\, yr{^-1})^{-2} \\,mas^{-1} \\,arcsec^{-2}\\,mag^{-1}$"
   ]
  },
  {
   "cell_type": "code",
   "execution_count": 3,
   "metadata": {},
   "outputs": [],
   "source": [
    "from astroquery.gaia import Gaia\n",
    "import numpy as np\n",
    "import astropy.units as u\n",
    "\n",
    "# Boyajian's star's source id:\n",
    "A_source_id = 2081900940499099136\n",
    "B_source_id = 2081900944807842560\n",
    "\n",
    "# Get Boyajian's star Gaia data:\n",
    "job = Gaia.launch_job(\"SELECT * FROM gaiaedr3.gaia_source WHERE source_id = \"+str(A_source_id))\n",
    "a = job.get_results()\n",
    "\n",
    "job = Gaia.launch_job(\"SELECT * FROM gaiaedr3.gaia_source WHERE source_id = \"+str(B_source_id))\n",
    "b = job.get_results()"
   ]
  },
  {
   "cell_type": "code",
   "execution_count": 11,
   "metadata": {},
   "outputs": [],
   "source": [
    "def get_phif(radius, catalog = 'gaiaedr3.gaia_source'):\n",
    "    ''' For a given search radius, return the density of objects similar in pm, magnitude, and parallax\n",
    "    to KIC 8462852 B\n",
    "    \n",
    "    Args:\n",
    "        radius (flt): search radius.  Must be an astropy unit angle, such as u.deg or u.arcsec.\n",
    "        catalog (str): set the catalog to query.  Default = Gaia EDR3.\n",
    "        \n",
    "    Returns:\n",
    "        flt: phi_f, density of simiar objects in similar objects per arcsec^2\n",
    "        table: similar objects\n",
    "        int: number of similiar objects within search radius\n",
    "        flt: size of search area in arcsec^2\n",
    "    '''\n",
    "    search_radius = radius.to(u.deg)\n",
    "    # Slightly different search bins than above due to different considerations. This is a search\n",
    "    # within :\n",
    "    #   1 mag of B's magnitude (+/- 0.5 mag)\n",
    "    #   1 mas/yr of A's proper motion in RA/DEC (+/- 0.5 mas/yr)\n",
    "    #   0.5 mas of A's parallax (+/- 0.25 mas)\n",
    "    search_string = \"SELECT DISTANCE(\\\n",
    "          POINT('ICRS', ra, dec), \\\n",
    "          POINT('ICRS', 301.564, 44.4568)) AS dist, * \\\n",
    "        FROM FROM \"+catalog+\" \\\n",
    "        WHERE 1=CONTAINS(\\\n",
    "          POINT('ICRS',301.564, 44.4568), \\\n",
    "          CIRCLE('ICRS',ra, dec, \"+str(search_radius.value)+\")) \\\n",
    "        AND phot_g_mean_mag>=17.102833 AND phot_g_mean_mag<=18.102833 \\\n",
    "        AND pmra>=-10.8748 AND pmra<=-9.87484 \\\n",
    "        AND pmdec>=-10.773 AND pmdec<=-9.77311 \\\n",
    "        AND parallax>=2 AND parallax <=2.5 \\\n",
    "        ORDER BY dist ASC\"\n",
    "    # Launch query:\n",
    "    job = Gaia.launch_job(search_string)\n",
    "    k = job.get_results()\n",
    "    k['dist_arcsec'] = k['dist']*u.deg.to(u.arcsec)\n",
    "    \n",
    "    # cut out potential binaries by removing closest objects to primary:\n",
    "    max_sep_for_a_binary = 50000 # AU\n",
    "    # convert to angle:\n",
    "    a_distance = 451 #pc\n",
    "    max_sep_for_a_binary = max_sep_for_a_binary / a_distance # arcsec\n",
    "    field_stars = k[np.where(k['dist_arcsec']>max_sep_for_a_binary)[0]]\n",
    "    \n",
    "    # area of field stars search region:\n",
    "    area_max = np.pi*(((search_radius.to(u.arcsec)))**2)\n",
    "    area_min = (np.pi*(max_sep_for_a_binary*u.arcsec)**2)\n",
    "    field_area = area_max-area_min\n",
    "    \n",
    "    # N_objects is x2 because the plx bin size was 1/2, so it's divided by the bin size\n",
    "    N_obj = len(field_stars)*2\n",
    "    \n",
    "    phi_f = N_obj / field_area\n",
    "    \n",
    "    return phi_f, field_stars, N_obj , field_area "
   ]
  },
  {
   "cell_type": "markdown",
   "metadata": {},
   "source": [
    "### phi_c\n",
    "\n",
    "Because we're not considering the distribution as a function of separation across the whole binary population, we can modify Deacon A3 to get the likelihood of finding a companion just in our secondary's bin of parameter space:\n",
    "$$ \\phi_c = c_s \\times \\big[\\frac{ e^{ \\frac{-\\Delta\\mu^2}{2\\sigma^2_{\\mu}}}} {2\\pi\\sigma^2_\\mu}\\big] \\times \\big[\\frac{ e^{ \\frac{-\\Delta p^2}{2\\sigma^2_{p}}}} {\\sqrt{2\\pi}\\sigma_p}\\big]$$\n",
    "\n",
    "where p is the parallax.  So this gives units of $(mas\\, yr^-1)^{-2} plx^{-1}$.  $c_s$ is then the modified normailzation factor which needs to be the occurrence rate of binaries in the same magnitude bin and in an area of the sky, giving units of $objects \\,(mas\\, yr{^-1})^{-2} \\,mas^{-1} \\,arcsec^{-2}\\,mag^{-1}$ to match $\\phi_f$\n",
    "\n",
    "We used the binary demographics from Raghavan 2010, particularly Fig 13 and accompanying text, to generate occurence rates as a function of mass ratio and separation:\n",
    "\n",
    "![alt text](Raghavan2010_binary_fraction.png \"Title\")\n",
    "\n",
    "The approximate location of KIC 8462852 B is marked with the dot, the box is a representation of the parameter bins used for phi_c \n",
    "\n",
    "\n",
    "KIC 8462852 AB has a mass ratio of q=0.33.  Vertically the box is +/- 0.05 q, which corresponds to $\\Delta$Gmag of 1.2 mags, using the mass and Gmag estimates of Mamajek table (Masses and M and m estimates written to the left).  \n",
    "\n",
    "Horizontally the box is +/- 0.5 dex of separation (log(880) AU = 2.9 -> upper bound = 3.4 = 2512 AU = 5.6 arcsec, lower bound = 2.4 = 251.2 AU = 0.56 arcsec) so the area is a=$\\pi$(5.6-0.56)$^2$ arcsec$^2$.  \n",
    "\n",
    "Using Fig 13 of Raghavan 2010, ~10% of objects are binaries at 880 separation. Within the box, at the point, the occurence rate of binaries is ~0.025 per dex of sep per 0.25q.  So that makes the occurence rate (0.025/(0.25*0.1)) = 0.01 = 1%.  (times 0.1 because the box size is 0.1q)\n",
    "\n",
    "So, put it all together:\n",
    "\n",
    "$$ \\phi_c = \\big(0.01 \\times \\frac{1}{A} \\times \\frac{1}{\\Delta mag}\\big) \\times \\big[\\frac{ e^{ \\frac{-\\Delta\\mu^2}{2\\sigma^2_{\\mu}}}} {2\\pi\\sigma^2_\\mu}\\big] \\times \\big[\\frac{ e^{ \\frac{-\\Delta \\pi^2}{2\\sigma^2_{\\pi}}}} {\\sqrt{2\\pi}\\sigma_\\pi}\\big] $$\n",
    "\n",
    "which gives units of $objects \\,(mas\\, yr^{-1})^{-2} \\,mas^{-1} \\,arcsec^{-2}\\,mag^{-1}$"
   ]
  },
  {
   "cell_type": "code",
   "execution_count": 23,
   "metadata": {},
   "outputs": [],
   "source": [
    "# A small function for performing Monte Carlo simulations:\n",
    "from tools import MonteCarloIt\n",
    "\n",
    "def get_phic():\n",
    "    ''' Get phi_c for KIC 8462852 B\n",
    "    '''\n",
    "    # Run a Monte Carlo Simulation to get uncertainties:\n",
    "    # rel proper motion:\n",
    "    dmu_ra = MonteCarloIt([b['pmra'],b['pmra_error']]) - MonteCarloIt([a['pmra'],a['pmra_error']])\n",
    "    dmu_dec = MonteCarloIt([b['pmdec'],b['pmdec_error']]) - MonteCarloIt([a['pmdec'],a['pmdec_error']])\n",
    "    dmu = np.sqrt(np.mean(dmu_ra)**2 + np.mean(dmu_dec)**2) #mas/yr\n",
    "    sigma_mu = np.sqrt(np.std(dmu_ra)**2 + np.std(dmu_dec)**2)\n",
    "\n",
    "    dplx = b['parallax'][0] - a['parallax'][0] # mas\n",
    "    sigma_plx = np.sqrt(b['parallax_error'][0]**2 + a['parallax_error'][0]**2)\n",
    "    # Magntiude bin:\n",
    "    dmag = 1.2 # mags\n",
    "    # Separation bin:\n",
    "    area = np.pi*((5.6-0.56)**2) # arcsec^2\n",
    "\n",
    "    A = (1/(2*np.pi*sigma_mu**2)) * np.exp(-dmu**2/(2*sigma_mu**2))\n",
    "    B = (1/(np.sqrt(2*np.pi)*sigma_plx)) * np.exp(-dplx**2/(2*sigma_plx**2))\n",
    "    C = 0.01 * (1/area) * ((1/dmag)*(1/1.2)) #<- to make the magnitude bin the same as it was for the field.\n",
    "\n",
    "    phi_c = A * B * C\n",
    "    return phi_c"
   ]
  },
  {
   "cell_type": "code",
   "execution_count": 22,
   "metadata": {},
   "outputs": [
    {
     "name": "stdout",
     "output_type": "stream",
     "text": [
      "Probability: 0.9999716554765988\n",
      "phi_c 0.0001270853637096497\n",
      "phi_f 3.6022761704223967e-09 1 / arcsec2\n",
      "N objects in field 132\n"
     ]
    }
   ],
   "source": [
    "def get_probability(radius, catalog = 'gaiaedr3.gaia_source'):\n",
    "    ''' For a given search radius, return the probability that KIC 8462852 B is a binary companion.\n",
    "    \n",
    "    Args:\n",
    "        radius (flt): search radius.  Must be an astropy unit angle, such as u.deg or u.arcsec.\n",
    "        catalog (str): set the catalog to query.  Default = Gaia EDR3.\n",
    "        \n",
    "    Returns:\n",
    "        flt: probability that KIC 8462852 B is a binary companion\n",
    "    '''\n",
    "    phi_f = get_phif(radius, catalog = catalog)\n",
    "    phi_c = get_phic()\n",
    "    P = phi_c / (phi_c+phi_f[0].value)\n",
    "    return P, phi_c, phi_f[0], phi_f[2]\n",
    "\n",
    "P, phi_c, phi_f, N_obj_phif = get_probability(30*u.deg)\n",
    "print('Probability:',P)\n",
    "print('phi_c',phi_c)\n",
    "print('phi_f',phi_f)\n",
    "print('N objects in field',N_obj_phif)"
   ]
  },
  {
   "cell_type": "code",
   "execution_count": null,
   "metadata": {},
   "outputs": [],
   "source": []
  }
 ],
 "metadata": {
  "kernelspec": {
   "display_name": "Python 3",
   "language": "python",
   "name": "python3"
  },
  "language_info": {
   "codemirror_mode": {
    "name": "ipython",
    "version": 3
   },
   "file_extension": ".py",
   "mimetype": "text/x-python",
   "name": "python",
   "nbconvert_exporter": "python",
   "pygments_lexer": "ipython3",
   "version": "3.7.4"
  }
 },
 "nbformat": 4,
 "nbformat_minor": 2
}
